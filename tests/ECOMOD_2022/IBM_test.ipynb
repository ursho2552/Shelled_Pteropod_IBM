{
 "cells": [
  {
   "cell_type": "code",
   "execution_count": 1,
   "metadata": {},
   "outputs": [],
   "source": [
    "%load_ext autoreload\n",
    "%autoreload 2"
   ]
  },
  {
   "cell_type": "markdown",
   "metadata": {},
   "source": [
    "# Load parcels (V2.1.3)\n",
    "\n",
    "Parcels might need to be downloaded locally to run the coupled version"
   ]
  },
  {
   "cell_type": "code",
   "execution_count": 2,
   "metadata": {},
   "outputs": [],
   "source": [
    "MODULE_PATH = '/home/ursho/PhD/Projects/Pteropods/My_parcels/Parcels_master_copy/parcels/parcels/__init__.py'\n",
    "MODULE_NAME = \"parcels\"\n",
    "import importlib\n",
    "import sys\n",
    "spec = importlib.util.spec_from_file_location(MODULE_NAME, MODULE_PATH)\n",
    "module = importlib.util.module_from_spec(spec)\n",
    "sys.modules[spec.name] = module \n",
    "spec.loader.exec_module(module)"
   ]
  },
  {
   "cell_type": "markdown",
   "metadata": {},
   "source": [
    "# Import all modules"
   ]
  },
  {
   "cell_type": "code",
   "execution_count": 3,
   "metadata": {},
   "outputs": [],
   "source": [
    "import os\n",
    "import logging\n",
    "import datetime\n",
    "import xarray as xr\n",
    "from parcels import ParticleSet\n",
    "\n",
    "sys.path.insert(1,\"/net/kryo/work/ursho/PhD/Projects/Pteropod_IBM/Shelled_Pteropod_IBM/\")\n",
    "import spIBM\n",
    "\n",
    "import project_funcs"
   ]
  },
  {
   "cell_type": "code",
   "execution_count": 4,
   "metadata": {},
   "outputs": [],
   "source": [
    "logging.basicConfig(level=logging.DEBUG)"
   ]
  },
  {
   "cell_type": "markdown",
   "metadata": {},
   "source": [
    "# Read in yaml file and user inputs"
   ]
  },
  {
   "cell_type": "code",
   "execution_count": 5,
   "metadata": {},
   "outputs": [],
   "source": [
    "year, version, control, config_file = 1984, 2, 0, \"IBM_config_parameters.yaml\"\n",
    "My_config = spIBM.read_config_files(config_file)\n",
    "My_config.control = control\n",
    "My_config.version = version"
   ]
  },
  {
   "cell_type": "markdown",
   "metadata": {},
   "source": [
    "# Define fieldset\n",
    "\n",
    "Defines the environment that the pteropods experience"
   ]
  },
  {
   "cell_type": "code",
   "execution_count": 6,
   "metadata": {},
   "outputs": [
    {
     "name": "stderr",
     "output_type": "stream",
     "text": [
      "WARNING: Casting lon data to np.float32\n",
      "WARNING:parcels.tools.loggers:Casting lon data to np.float32\n",
      "WARNING: Casting lat data to np.float32\n",
      "WARNING:parcels.tools.loggers:Casting lat data to np.float32\n",
      "WARNING: Casting depth data to np.float32\n",
      "WARNING:parcels.tools.loggers:Casting depth data to np.float32\n",
      "WARNING: Trying to initialize a shared grid with different chunking sizes - action prohibited. Replacing requested field_chunksize with grid's master chunksize.\n",
      "WARNING:parcels.tools.loggers:Trying to initialize a shared grid with different chunking sizes - action prohibited. Replacing requested field_chunksize with grid's master chunksize.\n",
      "WARNING: Casting time data to np.float64\n",
      "WARNING:parcels.tools.loggers:Casting time data to np.float64\n",
      "WARNING: Casting field data to np.float32\n",
      "WARNING:parcels.tools.loggers:Casting field data to np.float32\n",
      "INFO:root:Adding lower and upper bounds...\n"
     ]
    }
   ],
   "source": [
    "fieldset = spIBM.read_environment(My_config, year, control)"
   ]
  },
  {
   "cell_type": "markdown",
   "metadata": {},
   "source": [
    "# Calculate initial population\n",
    "\n",
    "We implemented boolean flags to check if the initial population needs to be calculated in case this has already been done"
   ]
  },
  {
   "cell_type": "code",
   "execution_count": 7,
   "metadata": {},
   "outputs": [],
   "source": [
    "flag_calculate_initial_population = My_config.flag_calculate_initial_population\n",
    "\n",
    "directory_mort = My_config.directory_mort\n",
    "similarity_file = My_config.similarity_file\n",
    "output_dir = My_config.output_dir_initialization\n",
    "\n",
    "if not os.path.exists(output_dir):\n",
    "    os.makedirs(output_dir)\n"
   ]
  },
  {
   "cell_type": "markdown",
   "metadata": {},
   "source": [
    "For reproducibility, we use a predefined seed"
   ]
  },
  {
   "cell_type": "code",
   "execution_count": 8,
   "metadata": {},
   "outputs": [],
   "source": [
    "np.random.seed(seed=My_config.seed)\n",
    "my_pteropods = spIBM.define_initial_population(number_of_individuals=1500, start_generation=0,\n",
    "                                               number_of_attributes=17)"
   ]
  },
  {
   "cell_type": "markdown",
   "metadata": {},
   "source": [
    "Run the idealized version of the IBM, to produce a starting population."
   ]
  },
  {
   "cell_type": "code",
   "execution_count": 9,
   "metadata": {},
   "outputs": [
    {
     "name": "stderr",
     "output_type": "stream",
     "text": [
      "718.0 Individuals: 100%|██████████| 4999/4999 [11:03<00:00,  7.53it/s]  \n"
     ]
    }
   ],
   "source": [
    "spIBM.run_ibm_idealized(My_config, my_pteropods, start_gen=0, time=5000, length_t=None,\n",
    "                            save_population=True, save_abundance=True)"
   ]
  },
  {
   "cell_type": "markdown",
   "metadata": {},
   "source": [
    "# Determine the starting day\n",
    "\n",
    "Determine which is the starting day from the idealized run above based on the best fit to abundance observations"
   ]
  },
  {
   "cell_type": "code",
   "execution_count": 10,
   "metadata": {},
   "outputs": [],
   "source": [
    "ref_data_file =\"/home/ursho/PhD/Projects/Pteropod_IBM/Data/MarEDat20120203Pteropods.nc\"\n",
    "daily_abundance_maredat, std_abundance_maredat = project_funcs.get_daily_maredat_obs(ref_data=ref_data_file)\n"
   ]
  },
  {
   "cell_type": "code",
   "execution_count": 11,
   "metadata": {},
   "outputs": [
    {
     "name": "stderr",
     "output_type": "stream",
     "text": [
      "INFO:root:Matching to observations\n",
      "INFO:root:The following metrics were found:\n",
      "INFO:root:3501, 0.91, 0.99, 15.5, 0.29\n",
      "INFO:root:Start day is: 3501\n"
     ]
    }
   ],
   "source": [
    "output_dir = My_config.output_dir_initialization\n",
    "gen0_file = My_config.gen0_file\n",
    "gen1_file = My_config.gen1_file\n",
    "observations = daily_abundance_maredat\n",
    "observations_std = std_abundance_maredat\n",
    "\n",
    "start_day = spIBM.determine_starting_day(output_dir, gen0_file, gen1_file, observations,\n",
    "                                         observations_std, start=None)"
   ]
  },
  {
   "cell_type": "code",
   "execution_count": 12,
   "metadata": {},
   "outputs": [],
   "source": [
    "initial_population = np.genfromtxt(output_dir+'/Pteropods_Day_{}.csv'.format(int(start_day)),delimiter=',')\n",
    "num_init = initial_population.shape[0]\n"
   ]
  },
  {
   "cell_type": "markdown",
   "metadata": {},
   "source": [
    "# Get initial positions\n",
    "\n",
    "Determine where each individual is seeded at the beginning of the simulation. Here again we use a pre-defined seed (previous seed$\\times$5)"
   ]
  },
  {
   "cell_type": "code",
   "execution_count": 13,
   "metadata": {},
   "outputs": [
    {
     "name": "stderr",
     "output_type": "stream",
     "text": [
      "INFO:root:Searching for positions...\n"
     ]
    }
   ],
   "source": [
    "\n",
    "grid_file = My_config.mesh_file\n",
    "outfile = My_config.output_dir_initialization+My_config.initial_positions_file\n",
    "\n",
    "np.random.seed(seed=My_config.version*5)\n",
    "\n",
    "#On the first year, calculate the initial positions. Later read them from file\n",
    "latlon_list = project_funcs.get_initial_positions(num=num_init,grid_file=grid_file,outfile=outfile)\n",
    "\n",
    "    \n",
    "latlon_list = np.genfromtxt(outfile, delimiter=',')"
   ]
  },
  {
   "cell_type": "code",
   "execution_count": 14,
   "metadata": {},
   "outputs": [],
   "source": [
    "pclass = spIBM.PteropodParticle\n",
    "ptero_pset = spIBM.initialize_particles(fieldset,pclass,initial_population,latlon_list)"
   ]
  },
  {
   "cell_type": "markdown",
   "metadata": {},
   "source": [
    "# Run physics only for X days\n",
    "\n",
    "Run the IBM with physics only to initialize the depth, ascent, descent timings and other attributes/experienced environmental conditions"
   ]
  },
  {
   "cell_type": "code",
   "execution_count": 15,
   "metadata": {},
   "outputs": [],
   "source": [
    "kernel = ptero_pset.Kernel(spIBM.pteropod_kernel)"
   ]
  },
  {
   "cell_type": "code",
   "execution_count": 16,
   "metadata": {},
   "outputs": [
    {
     "name": "stderr",
     "output_type": "stream",
     "text": [
      "Physics only progress:   0%|          | 0/3 [00:00<?, ?it/s]INFO: Compiled PteropodParticlepteropod_kernel ==> /tmp/parcels-43802/f17427094c066ca01e6f4900a4f06e32_0.so\n",
      "INFO:parcels.tools.loggers:Compiled PteropodParticlepteropod_kernel ==> /tmp/parcels-43802/f17427094c066ca01e6f4900a4f06e32_0.so\n",
      "Physics only progress: 100%|██████████| 3/3 [01:26<00:00, 28.82s/it]\n"
     ]
    }
   ],
   "source": [
    "ptero_pset = spIBM.run_physics_only(My_config, ptero_pset, fieldset, kernel, year, \n",
    "                                        total_runtime=3, dt=1.0, outputdt=1.0)\n",
    "    \n",
    "#always read from file. On the first year 1984 calculate the value and then read from file\n",
    "my_file = My_config.output_dir_physics+My_config.physics_only_file.format(My_config.version)\n",
    "ptero_pset = ParticleSet.from_particlefile(fieldset=fieldset, pclass=pclass, filename=my_file,\n",
    "                                           lonlatdepth_dtype=np.float32)\n"
   ]
  },
  {
   "cell_type": "markdown",
   "metadata": {},
   "source": [
    "Reset the time and attributes. Only the time should have changed by X days. Here we show how other attributes can be changed."
   ]
  },
  {
   "cell_type": "code",
   "execution_count": 17,
   "metadata": {},
   "outputs": [],
   "source": [
    "reset_dictionary = {'time': 0.0,\n",
    "                    'MyID': initial_population[:,0],\n",
    "                    'generation': initial_population[:,1],\n",
    "                    'stage': initial_population[:,2],\n",
    "                    'shell_size': initial_population[:,3],\n",
    "                    'days_of_growth': initial_population[:,4],\n",
    "                    'survive': initial_population[:,5],\n",
    "                    'num_spawning_event': initial_population[:,6],\n",
    "                    'ERR': initial_population[:,7],\n",
    "                    'spawned': initial_population[:,8],\n",
    "                    'Parent_ID': initial_population[:,9],\n",
    "                    'Parent_shell_size': initial_population[:,10],\n",
    "                    'damage': initial_population[:,14]}\n",
    "\n",
    "ptero_pset = spIBM.reset_particle_attributes(ptero_pset,reset_dictionary)\n"
   ]
  },
  {
   "cell_type": "markdown",
   "metadata": {},
   "source": [
    "# Start coupled run"
   ]
  },
  {
   "cell_type": "code",
   "execution_count": 22,
   "metadata": {},
   "outputs": [
    {
     "name": "stdout",
     "output_type": "stream",
     "text": [
      "Starting simulation...\n",
      "Shape initial (994, 17)\n",
      "Next ID is 1365961.0\n"
     ]
    }
   ],
   "source": [
    "print('Starting simulation...')\n",
    "\n",
    "next_ID = max(initial_population[:,0])+1\n",
    "print(f'Shape initial {initial_population.shape}')\n",
    "print(f'Next ID is {next_ID}')\n",
    "current_gen = np.nanmax(initial_population[np.squeeze(np.argwhere((initial_population[:,2]==3) | (initial_population[:,3] == max(np.unique(initial_population[:,3]))))).astype(int),1])\n"
   ]
  },
  {
   "cell_type": "code",
   "execution_count": 19,
   "metadata": {},
   "outputs": [],
   "source": [
    "d0 = datetime.date(year,1,1)\n",
    "d1 = datetime.date(year,1,10)\n",
    "time_mat = np.empty((3,(d1-d0).days))\n",
    "for i in range(time_mat.shape[1]):\n",
    "    time_mat[0,i] = (d0+datetime.timedelta(days=i)).year\n",
    "    time_mat[1,i] = (d0+datetime.timedelta(days=i)).day\n",
    "    time_mat[2,i] = i"
   ]
  },
  {
   "cell_type": "code",
   "execution_count": 20,
   "metadata": {},
   "outputs": [],
   "source": [
    "spIBM.run_ibm_coupled(My_config, ptero_pset, fieldset, pclass, kernel, time_mat, next_ID, \n",
    "                      current_gen, length_t=None)"
   ]
  },
  {
   "cell_type": "code",
   "execution_count": null,
   "metadata": {},
   "outputs": [],
   "source": []
  }
 ],
 "metadata": {
  "kernelspec": {
   "display_name": "Python 3",
   "language": "python",
   "name": "python3"
  },
  "language_info": {
   "codemirror_mode": {
    "name": "ipython",
    "version": 3
   },
   "file_extension": ".py",
   "mimetype": "text/x-python",
   "name": "python",
   "nbconvert_exporter": "python",
   "pygments_lexer": "ipython3",
   "version": "3.7.7"
  },
  "toc": {
   "base_numbering": 1,
   "nav_menu": {},
   "number_sections": true,
   "sideBar": true,
   "skip_h1_title": false,
   "title_cell": "Table of Contents",
   "title_sidebar": "Contents",
   "toc_cell": false,
   "toc_position": {},
   "toc_section_display": true,
   "toc_window_display": false
  },
  "varInspector": {
   "cols": {
    "lenName": 16,
    "lenType": 16,
    "lenVar": 40
   },
   "kernels_config": {
    "python": {
     "delete_cmd_postfix": "",
     "delete_cmd_prefix": "del ",
     "library": "var_list.py",
     "varRefreshCmd": "print(var_dic_list())"
    },
    "r": {
     "delete_cmd_postfix": ") ",
     "delete_cmd_prefix": "rm(",
     "library": "var_list.r",
     "varRefreshCmd": "cat(var_dic_list()) "
    }
   },
   "types_to_exclude": [
    "module",
    "function",
    "builtin_function_or_method",
    "instance",
    "_Feature"
   ],
   "window_display": false
  }
 },
 "nbformat": 4,
 "nbformat_minor": 4
}
