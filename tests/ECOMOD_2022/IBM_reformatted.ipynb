{
 "cells": [
  {
   "cell_type": "code",
   "execution_count": 1,
   "metadata": {},
   "outputs": [],
   "source": [
    "%load_ext autoreload\n",
    "%autoreload 2"
   ]
  },
  {
   "cell_type": "code",
   "execution_count": 2,
   "metadata": {},
   "outputs": [],
   "source": [
    "MODULE_PATH = '/home/ursho/PhD/Projects/Pteropods/My_parcels/Parcels_master_copy/parcels/parcels/__init__.py'\n",
    "MODULE_NAME = \"parcels\"\n",
    "import importlib\n",
    "import sys\n",
    "spec = importlib.util.spec_from_file_location(MODULE_NAME, MODULE_PATH)\n",
    "module = importlib.util.module_from_spec(spec)\n",
    "sys.modules[spec.name] = module \n",
    "spec.loader.exec_module(module)"
   ]
  },
  {
   "cell_type": "markdown",
   "metadata": {},
   "source": [
    "# Import all modules"
   ]
  },
  {
   "cell_type": "code",
   "execution_count": 3,
   "metadata": {},
   "outputs": [],
   "source": [
    "from parcels import ParticleSet"
   ]
  },
  {
   "cell_type": "code",
   "execution_count": 10,
   "metadata": {},
   "outputs": [],
   "source": [
    "sys.path.insert(1,\"/net/kryo/work/ursho/PhD/Projects/Pteropod_IBM/Shelled_Pteropod_IBM/\")\n",
    "import spIBM"
   ]
  },
  {
   "cell_type": "code",
   "execution_count": 13,
   "metadata": {},
   "outputs": [],
   "source": [
    "import Project_files"
   ]
  },
  {
   "cell_type": "code",
   "execution_count": 14,
   "metadata": {},
   "outputs": [],
   "source": [
    "import os\n",
    "import datetime\n",
    "import xarray as xr"
   ]
  },
  {
   "cell_type": "markdown",
   "metadata": {},
   "source": [
    "# Read in yaml file and user inputs"
   ]
  },
  {
   "cell_type": "code",
   "execution_count": 19,
   "metadata": {},
   "outputs": [],
   "source": [
    "year, version, control, config_file = 1984, 2, 0, \"IBM_config_parameters.yaml\"\n",
    "My_config = spIBM.read_config_files(config_file)"
   ]
  },
  {
   "cell_type": "markdown",
   "metadata": {},
   "source": [
    "# Define fieldset"
   ]
  },
  {
   "cell_type": "code",
   "execution_count": 16,
   "metadata": {},
   "outputs": [
    {
     "name": "stderr",
     "output_type": "stream",
     "text": [
      "WARNING: Casting lon data to np.float32\n",
      "WARNING: Casting lat data to np.float32\n",
      "WARNING: Casting depth data to np.float32\n",
      "WARNING: Trying to initialize a shared grid with different chunking sizes - action prohibited. Replacing requested field_chunksize with grid's master chunksize.\n",
      "WARNING: Casting time data to np.float64\n",
      "WARNING: Casting field data to np.float32\n"
     ]
    },
    {
     "name": "stdout",
     "output_type": "stream",
     "text": [
      "Adding lower and upper bounds...\n"
     ]
    }
   ],
   "source": [
    "fieldset = spIBM.read_environment(My_config, year, control)"
   ]
  },
  {
   "cell_type": "markdown",
   "metadata": {},
   "source": [
    "# Check if the initial population needs to be calculated and test it"
   ]
  },
  {
   "cell_type": "code",
   "execution_count": 20,
   "metadata": {},
   "outputs": [
    {
     "name": "stdout",
     "output_type": "stream",
     "text": [
      "False\n"
     ]
    }
   ],
   "source": [
    "flag_calculate_initial_population = My_config.flag_calculate_initial_population\n",
    "print(flag_calculate_initial_population)\n",
    "directory_mort = My_config.directory_mort\n",
    "similarity_file = My_config.similarity_file\n",
    "output_dir = My_config.output_dir_initialization\n",
    "output_dir\n",
    "if not os.path.exists(output_dir):\n",
    "    os.makedirs(output_dir)\n"
   ]
  },
  {
   "cell_type": "code",
   "execution_count": 21,
   "metadata": {},
   "outputs": [],
   "source": [
    "np.random.seed(seed=My_config.seed)\n",
    "my_pteropods = spIBM.define_initial_population(number_of_individuals=1500, start_generation=0,number_of_attributes=17)\n",
    "\n"
   ]
  },
  {
   "cell_type": "code",
   "execution_count": null,
   "metadata": {},
   "outputs": [],
   "source": [
    "flag = False\n",
    "if flag == True:\n",
    "    runIBM_module.run_IBM_idealized(My_config,my_pteropods,start_gen=0,time=5000,L_t=None,save_population=True,save_abundance=True)"
   ]
  },
  {
   "cell_type": "markdown",
   "metadata": {},
   "source": [
    "# Determine the starting day"
   ]
  },
  {
   "cell_type": "code",
   "execution_count": null,
   "metadata": {},
   "outputs": [],
   "source": [
    "ref_data_file =\"/home/ursho/PhD/Projects/Pteropod_IBM/Data/MarEDat20120203Pteropods.nc\"\n",
    "daily_abundance_maredat, std_abundance_maredat = Project_files.get_daily_maredat_obs(ref_data=ref_data_file)\n",
    "\n"
   ]
  },
  {
   "cell_type": "code",
   "execution_count": null,
   "metadata": {},
   "outputs": [],
   "source": [
    "output_dir = My_config.output_dir_initialization\n",
    "gen0_file = My_config.gen0_file\n",
    "gen1_file = My_config.gen1_file\n",
    "observations = daily_abundance_maredat\n",
    "observations_std = std_abundance_maredat\n",
    "\n",
    "\n",
    "start_day = initialization_module.determine_starting_day(output_dir,gen0_file,gen1_file,observations,observations_std,start=None)\n",
    "start_day"
   ]
  },
  {
   "cell_type": "code",
   "execution_count": null,
   "metadata": {},
   "outputs": [],
   "source": [
    "initial_population = np.genfromtxt(output_dir+'/Pteropods_Day_{}.csv'.format(int(start_day)),delimiter=',')\n",
    "num_init = initial_population.shape[0]\n",
    "num_init"
   ]
  },
  {
   "cell_type": "markdown",
   "metadata": {},
   "source": [
    "# Get initial positions"
   ]
  },
  {
   "cell_type": "code",
   "execution_count": null,
   "metadata": {},
   "outputs": [],
   "source": [
    "\n",
    "grid_file = My_config.mesh_file\n",
    "outfile = My_config.output_dir_initialization+My_config.initial_positions_file\n",
    "\n",
    "np.random.seed(seed=My_config.version*5)\n",
    "\n",
    "flag = True\n",
    "#On the first year, calculate the initial positions. Later read them from file\n",
    "if flag == True:\n",
    "    latlon_list = Project_files.get_initial_positions(num=num_init,grid_file=grid_file,outfile=outfile)\n",
    "\n",
    "    \n",
    "latlon_list = np.genfromtxt(outfile, delimiter=',')"
   ]
  },
  {
   "cell_type": "code",
   "execution_count": null,
   "metadata": {},
   "outputs": [],
   "source": [
    "pclass = parcels_module.PteropodParticle\n",
    "ptero_pset = initialization_module.initialize_particles(fieldset,pclass,initial_population,latlon_list)\n",
    "ptero_pset"
   ]
  },
  {
   "cell_type": "markdown",
   "metadata": {},
   "source": [
    "# Run physics only for X days"
   ]
  },
  {
   "cell_type": "code",
   "execution_count": null,
   "metadata": {},
   "outputs": [],
   "source": [
    "kernel = ptero_pset.Kernel(parcels_module.pteropod_kernel)"
   ]
  },
  {
   "cell_type": "code",
   "execution_count": null,
   "metadata": {},
   "outputs": [],
   "source": [
    "flag = False\n",
    "if flag == True:\n",
    "    ptero_pset = runIBM_module.run_physics_only(My_config, ptero_pset, fieldset, kernel, year, total_runtime=3, dt=1.0, outputdt=1.0)\n",
    "    \n",
    "#always read from file. On the first year 1984 calculate the value and then read from file\n",
    "my_file = My_config.output_dir_physics+My_config.physics_only_file.format(My_config.version)\n",
    "ptero_pset = ParticleSet.from_particlefile(fieldset=fieldset, pclass=pclass, filename=my_file,lonlatdepth_dtype=np.float32)\n"
   ]
  },
  {
   "cell_type": "code",
   "execution_count": null,
   "metadata": {},
   "outputs": [],
   "source": [
    "ptero_pset = initialization_module.reset_particle_attributes(ptero_pset,initial_population)\n",
    "ptero_pset"
   ]
  },
  {
   "cell_type": "markdown",
   "metadata": {},
   "source": [
    "# Start real run"
   ]
  },
  {
   "cell_type": "code",
   "execution_count": null,
   "metadata": {},
   "outputs": [],
   "source": [
    "print('Starting simulation...')\n",
    "\n",
    "next_ID = max(initial_population[:,0])+1\n",
    "print('Shape initial:', initial_population.shape)\n",
    "print('Next ID is {}'.format(next_ID))\n",
    "current_gen = np.nanmax(initial_population[np.squeeze(np.argwhere((initial_population[:,2]==3) | (initial_population[:,3] == max(np.unique(initial_population[:,3]))))).astype(int),1])\n"
   ]
  },
  {
   "cell_type": "code",
   "execution_count": null,
   "metadata": {},
   "outputs": [],
   "source": [
    "d0 = datetime.date(year,1,1)\n",
    "d1 = datetime.date(year,1,10)\n",
    "time_mat = np.empty((3,(d1-d0).days))\n",
    "for i in range(time_mat.shape[1]):\n",
    "    time_mat[0,i] = (d0+datetime.timedelta(days=i)).year\n",
    "    time_mat[1,i] = (d0+datetime.timedelta(days=i)).day\n",
    "    time_mat[2,i] = i"
   ]
  },
  {
   "cell_type": "code",
   "execution_count": null,
   "metadata": {},
   "outputs": [],
   "source": [
    "\n",
    "runIBM_module.run_IBM_coupled(My_config, ptero_pset, fieldset, pclass, kernel, time_mat, next_ID, current_gen, L_t=None)"
   ]
  },
  {
   "cell_type": "markdown",
   "metadata": {},
   "source": [
    "# Compare to original to see if the number of individuals and position is more or less the same"
   ]
  },
  {
   "cell_type": "code",
   "execution_count": null,
   "metadata": {},
   "outputs": [],
   "source": [
    "file_mort_new = \"/home/ursho/PhD/Projects/Pteropod_IBM/Analysis/Pteropod_Areareseed/output/mortalities/year_{}_V_2_control_0/Mortality_Day_9.csv\".format(year)\n",
    "file_mort_orig = \"/home/ursho/PhD/Projects/Pteropod_IBM/Analysis/output_simulation_independent_V4/mortalities/year_{}_V_2_control_0/Mortality_Day_9.csv\".format(year)\n",
    "\n",
    "mort_orig = np.genfromtxt(file_mort_orig,delimiter=',')\n",
    "mort_new = np.genfromtxt(file_mort_new,delimiter=',')\n"
   ]
  },
  {
   "cell_type": "code",
   "execution_count": null,
   "metadata": {
    "scrolled": true
   },
   "outputs": [],
   "source": [
    "mort_orig[1,:]"
   ]
  },
  {
   "cell_type": "code",
   "execution_count": null,
   "metadata": {
    "scrolled": true
   },
   "outputs": [],
   "source": [
    "mort_new[1,:]"
   ]
  },
  {
   "cell_type": "code",
   "execution_count": null,
   "metadata": {},
   "outputs": [],
   "source": []
  },
  {
   "cell_type": "code",
   "execution_count": null,
   "metadata": {},
   "outputs": [],
   "source": [
    "file_orig = \"/home/ursho/PhD/Projects/Pteropod_IBM/Analysis/output_simulation_independent_V4/netcdf/year_2000_V_2/JitPtero_Day_1.nc\"\n",
    "file_new = \"/home/ursho/PhD/Projects/Pteropod_IBM/Analysis/Pteropod_Areareseed/output/netcdf/year_2000_V_2/JitPtero_Day_1.nc\"\n",
    "\n",
    "\n",
    "ds_orig = xr.open_dataset(file_orig)\n",
    "ds_new = xr.open_dataset(file_new)"
   ]
  },
  {
   "cell_type": "code",
   "execution_count": null,
   "metadata": {
    "scrolled": true
   },
   "outputs": [],
   "source": [
    "ds_orig.z.values[:,-1]-ds_new.z.values[:,-1]"
   ]
  },
  {
   "cell_type": "code",
   "execution_count": null,
   "metadata": {
    "scrolled": true
   },
   "outputs": [],
   "source": []
  },
  {
   "cell_type": "code",
   "execution_count": null,
   "metadata": {},
   "outputs": [],
   "source": []
  }
 ],
 "metadata": {
  "kernelspec": {
   "display_name": "Python 3",
   "language": "python",
   "name": "python3"
  },
  "language_info": {
   "codemirror_mode": {
    "name": "ipython",
    "version": 3
   },
   "file_extension": ".py",
   "mimetype": "text/x-python",
   "name": "python",
   "nbconvert_exporter": "python",
   "pygments_lexer": "ipython3",
   "version": "3.7.7"
  },
  "toc": {
   "base_numbering": 1,
   "nav_menu": {},
   "number_sections": true,
   "sideBar": true,
   "skip_h1_title": false,
   "title_cell": "Table of Contents",
   "title_sidebar": "Contents",
   "toc_cell": false,
   "toc_position": {},
   "toc_section_display": true,
   "toc_window_display": false
  },
  "varInspector": {
   "cols": {
    "lenName": 16,
    "lenType": 16,
    "lenVar": 40
   },
   "kernels_config": {
    "python": {
     "delete_cmd_postfix": "",
     "delete_cmd_prefix": "del ",
     "library": "var_list.py",
     "varRefreshCmd": "print(var_dic_list())"
    },
    "r": {
     "delete_cmd_postfix": ") ",
     "delete_cmd_prefix": "rm(",
     "library": "var_list.r",
     "varRefreshCmd": "cat(var_dic_list()) "
    }
   },
   "types_to_exclude": [
    "module",
    "function",
    "builtin_function_or_method",
    "instance",
    "_Feature"
   ],
   "window_display": false
  }
 },
 "nbformat": 4,
 "nbformat_minor": 4
}
